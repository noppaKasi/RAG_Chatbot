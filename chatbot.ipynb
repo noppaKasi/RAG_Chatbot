{
 "cells": [
  {
   "cell_type": "markdown",
   "metadata": {},
   "source": [
    "## Install dependencies\n",
    "### Pull llama3.2 (3B) model using ollama"
   ]
  },
  {
   "cell_type": "code",
   "execution_count": null,
   "metadata": {},
   "outputs": [],
   "source": [
    "!ollama pull llama3.2"
   ]
  },
  {
   "cell_type": "markdown",
   "metadata": {},
   "source": [
    "### Install Dependencies"
   ]
  },
  {
   "cell_type": "code",
   "execution_count": 121,
   "metadata": {},
   "outputs": [
    {
     "name": "stdout",
     "output_type": "stream",
     "text": [
      "Note: you may need to restart the kernel to use updated packages.\n"
     ]
    },
    {
     "name": "stderr",
     "output_type": "stream",
     "text": [
      "\n",
      "[notice] A new release of pip is available: 24.0 -> 24.3.1\n",
      "[notice] To update, run: python.exe -m pip install --upgrade pip\n"
     ]
    }
   ],
   "source": [
    "%pip install -q -r requirements.txt"
   ]
  },
  {
   "cell_type": "markdown",
   "metadata": {},
   "source": [
    "## Model Configuration"
   ]
  },
  {
   "cell_type": "code",
   "execution_count": 1,
   "metadata": {},
   "outputs": [],
   "source": [
    "### Initialize the Ollama model\n",
    "from langchain_ollama import ChatOllama\n",
    "\n",
    "# LLM model name\n",
    "MODEL = \"llama3.2\"\n",
    "# Model Creativity\n",
    "TEMPERATURE = 0\n",
    "# Model for embeddings\n",
    "EMBEDDINGS_MODEL = \"nomic-embed-text-v1.5\"\n",
    "\n",
    "llm = ChatOllama(model=MODEL, temperature=TEMPERATURE)\n",
    "llm_json = ChatOllama(model=MODEL, temperature=TEMPERATURE, format=\"json\")"
   ]
  },
  {
   "cell_type": "markdown",
   "metadata": {},
   "source": [
    "### Data Preparation and Knowledge Base"
   ]
  },
  {
   "cell_type": "code",
   "execution_count": 137,
   "metadata": {},
   "outputs": [],
   "source": [
    "from langchain.text_splitter import RecursiveCharacterTextSplitter\n",
    "from langchain_community.document_loaders import WebBaseLoader\n",
    "from langchain_community.vectorstores import Qdrant\n",
    "from langchain_nomic.embeddings import NomicEmbeddings\n",
    "import re\n",
    "\n",
    "def load_doc_url(urls, chunk_size=500, chunk_overlap=100):\n",
    "    \"\"\"\n",
    "    Get and clean content from URLs. Split the content into chunks.\n",
    "\n",
    "    Args:\n",
    "        urls (list[str]): List of URLs\n",
    "        chunk_size (int): Size of the chunks\n",
    "        chunk_overlap (int): Overlap between chunks\n",
    "    \n",
    "    Returns:\n",
    "        (list[Document]): List of splitted documents\n",
    "    \"\"\"\n",
    "    # Load documents\n",
    "    docs = [WebBaseLoader(url).load() for url in urls]\n",
    "    docs_list = [item for sublist in docs for item in sublist]\n",
    "\n",
    "    # Remove unnecessary spaces from the page content\n",
    "    for doc in docs_list:\n",
    "        doc.page_content = re.sub(r\"(\\n|\\t| )+\", r\"\\1\", doc.page_content)\n",
    "\n",
    "    # Split documents\n",
    "    text_splitter = RecursiveCharacterTextSplitter.from_tiktoken_encoder(\n",
    "        chunk_size=chunk_size, chunk_overlap=chunk_overlap\n",
    "    )\n",
    "    return text_splitter.split_documents(docs_list)\n",
    "\n",
    "urls = [\n",
    "    \"https://metanoia-it.de/en/\",\n",
    "    \"https://metanoia-it.de/en/startups/\",\n",
    "    \"https://metanoia-it.de/en/about-us/\",\n",
    "    \"https://synoptek.com/industry-solutions/it-services-start-ups/\",\n",
    "    \"https://youteam.io/blog/do-i-need-a-startup-consultancy/\",\n",
    "    \"https://aimconsulting.com/insights/it-consulting-services-meaning-expertise-business/\",\n",
    "]\n",
    "\n",
    "doc_splits = load_doc_url(urls)\n",
    "\n",
    "# Add to vectorDB\n",
    "embeddings = NomicEmbeddings(model=EMBEDDINGS_MODEL, inference_mode=\"local\", device=\"nvidia\")\n",
    "vectorstore = Qdrant.from_documents(\n",
    "    documents=doc_splits,\n",
    "    embedding=embeddings,\n",
    "    #path=\"./KnowledgeBase\",\n",
    "    location=\":memory:\",\n",
    "    collection_name=\"KB\"\n",
    ")\n",
    "\n",
    "# Create retriever\n",
    "retriever = vectorstore.as_retriever(search_kwargs={\"k\": 3})"
   ]
  },
  {
   "cell_type": "code",
   "execution_count": 138,
   "metadata": {},
   "outputs": [
    {
     "data": {
      "text/plain": [
       "[Document(metadata={'source': 'https://metanoia-it.de/en/', 'title': 'Homepage - Metanoia IT Solutions GmbH IT-Dienstleister', 'description': 'Metanoia IT Solutions ein dynamischer IT-Dienstleister, das sich auf Dienstleistungen im Bereich der Informationstechnologie spezialisiert.', 'language': 'en-US', '_id': '9d5e1b19f2d34f4abe0fc31a94047d04', '_collection_name': 'KB'}, page_content='Homepage - Metanoia IT Solutions GmbH IT-Dienstleister\\nHome\\nServices\\nFor start-ups\\nAbout us\\nCustomers\\nAuf Deutsch wechseln ðŸ‡©ðŸ‡ª\\n\\r\\tContact us\\n\\r\\tContact us\\nCode, Cloud und AI-Driven Tech Your vision, our code. With cloud power, AI magic and experience, we bring a breath of fresh air to your digital projects. Let’s code the future!\\nGet to know us\\nOur solutions for your company\\nMetanoia IT Solutions GmbH supports young ideas and companies in their IT.We have specialised in the digitalisation of young, online-based business models.StartupsInfluencersDigital agenciesE-Commerce Brands\\nArrange a free initial consultation\\tSoftware development\\tRead more\\tIT infrastructure & security\\tMehr erfahren\\tDigitalisation & AI agents\\tRead more\\tE-Commerce\\tRead more\\nHow does the collaboration work?\\nGet to know us and our expertise in a video call.\\t1\\tAppointment request\\nChoose a suitable date in our Calender and describe your request in 2-3 sentences.\\t2\\tVirtual initial consultation\\nYou will get to know one of us in a team call and we will discuss what your challenge is and how we can help you.\\t3\\tSolution\\nWe then work as a team to develop a solution outline with implementation planning for you and present it to you in a further meeting.\\t4\\tCo-operation\\nIf everything fits from both sides, we start working together and implement the jointly agreed solution for you.\\nWhat customers say about us\\nWe interviewed customers and asked them to tell us their personal Metanoia story.\\nLucoyo\\nLucoyo offers practice software that simplifies patient communication and management while guaranteeing efficiency, data protection compliance and full control over patient data.\\tWeb application\\tStrict GDPR compliant\\tLive chat\\nLinkedin\\nPRUEFSTER\\nEURO by PRUEFSTER is a web system for the organisation, identification and live monitoring of online exam participants, which transmits and stores audio and video from a webcam, screen and additional mobile device.\\tAutomated scaling infrastructure\\tLive video streaming\\tISO/IEC 27001\\nLinkedin\\nWasteAnt'),\n",
       " Document(metadata={'source': 'https://metanoia-it.de/en/startups/', 'title': 'Startups - Metanoia IT Solutions GmbH', 'description': 'Wir sind die Macher fÃ¼r Startups und die Denker fÃ¼r Infrastruktur und Sicherheit. Bereit fÃ¼r den Startschuss?', 'language': 'en-US', '_id': '91d039ad83b345008950187b546e9799', '_collection_name': 'KB'}, page_content=\"Startups - Metanoia IT Solutions GmbH\\nHome\\nServices\\nFor start-ups\\nAbout us\\nCustomers\\nAuf Deutsch wechseln ðŸ‡©ðŸ‡ª\\n\\r\\tContact us\\n\\r\\tContact us\\nPowerhouse for start-ups We are the doers for start-ups and the thinkers for infrastructure and security. We are passionate about developing ground-breaking software solutions and revolutionary security concepts. Our mission? To write your success story. Ready to get started?\\nOur mission\\nWe’re here to give startups the tech turbo of a lifetime! In the startup world, time is money and budget needs to be spent wisely. That’s why we’re ready to get your MVP up and running in record time. We are experts in web development, infrastructure and security – and if you want, we can pimp the whole thing with AI.\\nBecause in the start-up world, everything revolves around being present asap and conquering the scene. Having your own team with the necessary skills is not an option for 95% of startups and destroys the optimal allocation for growth. And this is where we come in!\\nOur solution\\nOur solution is easy and efficient. We hop on board with you and catapult your MVP into the daylight and ready for the market in just a few months. As soon as everything is in place, we’re off the payroll, but certainly not out of the picture. We are your digital sidekicks and just a phone call away when you need new features or hosting. We understand your startup story because we are part of it. With our help in web development, infrastructure and security, including AI optimisation, you have the best players on the field. And even better: your budget is not sunk into an expensive development team, but is available for unrestricted market conquest.\\nArrange a free initial consultation\\nWhat's going on with us\\t14\\tPassionate code visionaries\\t34\\tCompleted successful projects\\t24\\tSupport and availability for premium customers\\t100000\\tEnd users on solutions developed by us\\nDo you have any Questions? You'll find the answer here!\\nNot there yet? Ask us directly.\\nContact us\\tWhat stage are the start-ups you support in?\"),\n",
       " Document(metadata={'source': 'https://metanoia-it.de/en/about-us/', 'title': 'Ãœber uns - Metanoia IT Solutions GmbH', 'description': 'Es dreht sich alles ums Coden, bei jeder Herausforderung, in jedem Projekt. Ein Team von Tech-VisionÃ¤re, die gemeinsam die Zukunft gestalten.', 'language': 'en-US', '_id': 'b040ac4c36354e9ebf17bd0d88c3279c', '_collection_name': 'KB'}, page_content=\"Ãœber uns - Metanoia IT Solutions GmbH\\nHome\\nServices\\nFor start-ups\\nAbout us\\nCustomers\\nAuf Deutsch wechseln ðŸ‡©ðŸ‡ª\\n\\r\\tContact us\\n\\r\\tContact us\\nAnd that's us Our team is all about coding, for every challenge and in every project. We design apps that make an impression and build web applications that work seamlessly. Our expertise extends to developing robust IT security solutions that fend off even the most sophisticated threats. With AI behind us and an arsenal of technologies in our pockets, we are at the forefront of digital innovation.We’re a team of tech visionaries shaping the future together.\\tPatrick\\tHead of Software Development\\tMoritz\\tAI & Managing Director\\tChristian\\tHead of IT-Infrastructure & Security\\nContact\\nInterested in working with us?\\nIf our vision and our team inspire you and you either have a brilliant idea in mind or are facing a tricky challenge, then don’t hesitate to take the next step. Just click “into the call” below and let’s find a way together to make your projects a success.\\nTalk to us\\nThe company\\nAbout us\\nContact\\nJournal\\nServices\\nServices\\nFor start-ups\\nLegal\\nImprint\\nPrivacy policy\\nHome\\nServices\\nFor start-ups\\nAbout us\\nCustomers\\nAuf Deutsch wechseln ðŸ‡©ðŸ‡ª\\n\\r\\tContact us\")]"
      ]
     },
     "execution_count": 138,
     "metadata": {},
     "output_type": "execute_result"
    }
   ],
   "source": [
    "retriever.invoke(\"metanoia\")"
   ]
  },
  {
   "cell_type": "code",
   "execution_count": 8,
   "metadata": {},
   "outputs": [
    {
     "name": "stdout",
     "output_type": "stream",
     "text": [
      "Homepage - Metanoia IT Solutions GmbH IT-Dienstleister\n",
      "Home\n",
      "Services\n",
      "For start-ups\n",
      "About us\n",
      "Customers\n",
      "Auf Deutsch wechseln ðŸ‡©ðŸ‡ª\n",
      "\tContact us\n",
      "\tContact us\n",
      "Code, Cloud und AI-Driven Tech Your vision, our code. With cloud power, AI magic and experience, we bring a breath of fresh air to your digital projects. Let’s code the future!\n",
      "Get to know us\n",
      "Our solutions for your company\n",
      "Metanoia IT Solutions GmbH supports young ideas and companies in their IT.We have specialised in the digitalisation of young, online-based business models.StartupsInfluencersDigital agenciesE-Commerce Brands\n",
      "Arrange a free initial consultation\tSoftware development\tRead more\tIT infrastructure & security\tMehr erfahren\tDigitalisation & AI agents\tRead more\tE-Commerce\tRead more\n",
      "How does the collaboration work?\n",
      "Get to know us and our expertise in a video call.\t1\tAppointment request\n",
      "Choose a suitable date in our Calender and describe your request in 2-3 sentences.\t2\tVirtual initial consultation\n",
      "You will get to know one of us in a team call and we will discuss what your challenge is and how we can help you.\t3\tSolution\n",
      "We then work as a team to develop a solution outline with implementation planning for you and present it to you in a further meeting.\t4\tCo-operation\n",
      "If everything fits from both sides, we start working together and implement the jointly agreed solution for you.\n",
      "What customers say about us\n",
      "We interviewed customers and asked them to tell us their personal Metanoia story.\n",
      "Lucoyo\n",
      "Lucoyo offers practice software that simplifies patient communication and management while guaranteeing efficiency, data protection compliance and full control over patient data.\tWeb application\tStrict GDPR compliant\tLive chat\n",
      "Linkedin\n",
      "PRUEFSTER\n",
      "EURO by PRUEFSTER is a web system for the organisation, identification and live monitoring of online exam participants, which transmits and stores audio and video from a webcam, screen and additional mobile device.\tAutomated scaling infrastructure\tLive video streaming\tISO/IEC 27001\n",
      "Linkedin\n",
      "WasteAnt\n"
     ]
    }
   ],
   "source": [
    "# Print the updated page content\n",
    "print(doc_splits[0].page_content)"
   ]
  },
  {
   "cell_type": "markdown",
   "metadata": {},
   "source": [
    "### Model Instructions and Testing"
   ]
  },
  {
   "cell_type": "code",
   "execution_count": 61,
   "metadata": {},
   "outputs": [],
   "source": [
    "### Router\n",
    "import json\n",
    "from langchain_core.messages import HumanMessage, SystemMessage\n",
    "\n",
    "# Prompt\n",
    "router_instructions = \"\"\"You are an expert at routing a user question to a vectorstore or web search.\n",
    "\n",
    "The vectorstore contains documents related to Metanoia and IT consulting.\n",
    "\n",
    "Use the vectorstore for questions on these topics. Else, use web-search.\n",
    "\n",
    "Return JSON with single key, datasource, that is 'websearch' or 'vectorstore' depending on the question.\"\"\"\n"
   ]
  },
  {
   "cell_type": "code",
   "execution_count": 62,
   "metadata": {},
   "outputs": [
    {
     "name": "stdout",
     "output_type": "stream",
     "text": [
      "{'datasource': 'websearch'} {'datasource': 'vectorstore'} {'datasource': 'vectorstore'}\n"
     ]
    }
   ],
   "source": [
    "# Test router\n",
    "test_web_search = llm_json.invoke(\n",
    "    [SystemMessage(content=router_instructions)]\n",
    "    + [\n",
    "        HumanMessage(\n",
    "            content=\"Who is favored to win the NFC Championship game in the 2024 season?\"\n",
    "        )\n",
    "    ]\n",
    ")\n",
    "test_web_search_2 = llm_json.invoke(\n",
    "    [SystemMessage(content=router_instructions)]\n",
    "    + [HumanMessage(content=\"What does Metanoia do?\")]\n",
    ")\n",
    "test_vector_store = llm_json.invoke(\n",
    "    [SystemMessage(content=router_instructions)]\n",
    "    + [HumanMessage(content=\"Who were customers of Metanoia?\")]\n",
    ")\n",
    "print(\n",
    "    json.loads(test_web_search.content),\n",
    "    json.loads(test_web_search_2.content),\n",
    "    json.loads(test_vector_store.content),\n",
    ")"
   ]
  },
  {
   "cell_type": "code",
   "execution_count": null,
   "metadata": {},
   "outputs": [],
   "source": [
    "### Retrieval Grader\n",
    "\n",
    "# Doc grader instructions\n",
    "doc_grader_instructions = \"\"\"You are a grader assessing relevance of a retrieved document to a user question.\n",
    "\n",
    "If the document contains keyword(s) or semantic meaning related to the question, grade it as relevant.\"\"\"\n",
    "\n",
    "# Grader prompt\n",
    "doc_grader_prompt = \"\"\"Here is the retrieved document: \\n\\n {document} \\n\\n Here is the user question: \\n\\n {question}. \n",
    "\n",
    "This carefully and objectively assess whether the document contains at least some information that is relevant to the question.\n",
    "\n",
    "Return JSON with single key, binary_score, that is 'yes' or 'no' score to indicate whether the document contains at least some information that is relevant to the question.\"\"\"\n"
   ]
  },
  {
   "cell_type": "code",
   "execution_count": 12,
   "metadata": {},
   "outputs": [
    {
     "data": {
      "text/plain": [
       "{'binary_score': 'no'}"
      ]
     },
     "execution_count": 12,
     "metadata": {},
     "output_type": "execute_result"
    }
   ],
   "source": [
    "# Test\n",
    "question = \"Who were customers of Metanoia?\"\n",
    "docs = retriever.invoke(question)\n",
    "doc_txt = docs[1].page_content\n",
    "doc_grader_prompt_formatted = doc_grader_prompt.format(\n",
    "    document=doc_txt, question=question\n",
    ")\n",
    "result = llm_json.invoke(\n",
    "    [SystemMessage(content=doc_grader_instructions)]\n",
    "    + [HumanMessage(content=doc_grader_prompt_formatted)]\n",
    ")\n",
    "json.loads(result.content)"
   ]
  },
  {
   "cell_type": "code",
   "execution_count": 13,
   "metadata": {},
   "outputs": [],
   "source": [
    "### Generate\n",
    "\n",
    "# Prompt\n",
    "rag_prompt = \"\"\"You are an assistant for question-answering tasks. \n",
    "\n",
    "Here is the context to use to answer the question:\n",
    "\n",
    "{context} \n",
    "\n",
    "Think carefully about the above context. \n",
    "\n",
    "Now, review the user question:\n",
    "\n",
    "{question}\n",
    "\n",
    "Provide an answer to this questions using only the above context. \n",
    "\n",
    "Use three sentences maximum and keep the answer concise.\n",
    "\n",
    "Answer:\"\"\"\n",
    "\n",
    "\n",
    "# Post-processing\n",
    "def format_docs(docs):\n",
    "    return \"\\n\\n\".join(doc.page_content for doc in docs)\n"
   ]
  },
  {
   "cell_type": "code",
   "execution_count": 14,
   "metadata": {},
   "outputs": [
    {
     "name": "stdout",
     "output_type": "stream",
     "text": [
      "According to the provided context, customers of Metanoia IT Solutions GmbH include startups such as Lucoyo, PRUEFSTER, and WasteAnt, as well as digital agencies and e-commerce brands. These customers have successfully implemented Metanoia's solutions for their digital projects. The company also mentions that they have interviewed customers and asked them to share their personal \"Metanoia story\" on their website.\n"
     ]
    }
   ],
   "source": [
    "# Test\n",
    "docs = retriever.invoke(question)\n",
    "docs_txt = format_docs(docs)\n",
    "rag_prompt_formatted = rag_prompt.format(context=docs_txt, question=question)\n",
    "generation = llm.invoke([HumanMessage(content=rag_prompt_formatted)])\n",
    "print(generation.content)"
   ]
  },
  {
   "cell_type": "code",
   "execution_count": 15,
   "metadata": {},
   "outputs": [],
   "source": [
    "### Hallucination Grader\n",
    "\n",
    "# Hallucination grader instructions\n",
    "hallucination_grader_instructions = \"\"\"\n",
    "\n",
    "You are a teacher grading a quiz. \n",
    "\n",
    "You will be given FACTS and a STUDENT ANSWER. \n",
    "\n",
    "Here is the grade criteria to follow:\n",
    "\n",
    "(1) Ensure the STUDENT ANSWER is grounded in the FACTS. \n",
    "\n",
    "(2) Ensure the STUDENT ANSWER does not contain \"hallucinated\" information outside the scope of the FACTS.\n",
    "\n",
    "Score:\n",
    "\n",
    "A score of yes means that the student's answer meets all of the criteria. This is the highest (best) score. \n",
    "\n",
    "A score of no means that the student's answer does not meet all of the criteria. This is the lowest possible score you can give.\n",
    "\n",
    "Explain your reasoning in a step-by-step manner to ensure your reasoning and conclusion are correct. \n",
    "\n",
    "Avoid simply stating the correct answer at the outset.\"\"\"\n",
    "\n",
    "# Grader prompt\n",
    "hallucination_grader_prompt = \"\"\"FACTS: \\n\\n {documents} \\n\\n STUDENT ANSWER: {generation}. \n",
    "\n",
    "Return JSON with two two keys, binary_score is 'yes' or 'no' score to indicate whether the STUDENT ANSWER is grounded in the FACTS. And a key, explanation, that contains an explanation of the score.\"\"\"\n"
   ]
  },
  {
   "cell_type": "code",
   "execution_count": 16,
   "metadata": {},
   "outputs": [
    {
     "data": {
      "text/plain": [
       "{'binary_score': 'yes',\n",
       " 'explanation': \"The STUDENT ANSWER is grounded in the FACTS because it accurately identifies specific customers of Metanoia IT Solutions GmbH (Lucoyo, PRUEFSTER, and WasteAnt) and mentions that these customers have successfully implemented Metania's solutions. Additionally, the STUDENT ANSWER correctly references the company's mission to support startups and their digital projects, as well as the fact that they have interviewed customers to share their personal 'Metanoia story'. The only potential issue is that the STUDENT ANSWER does not explicitly mention the company's services or solutions, but this information is not required to be included in order for the answer to be considered grounded in the FACTS.\"}"
      ]
     },
     "execution_count": 16,
     "metadata": {},
     "output_type": "execute_result"
    }
   ],
   "source": [
    "# Test using documents and generation from above\n",
    "hallucination_grader_prompt_formatted = hallucination_grader_prompt.format(\n",
    "    documents=docs_txt, generation=generation.content\n",
    ")\n",
    "result = llm_json.invoke(\n",
    "    [SystemMessage(content=hallucination_grader_instructions)]\n",
    "    + [HumanMessage(content=hallucination_grader_prompt_formatted)]\n",
    ")\n",
    "json.loads(result.content)"
   ]
  },
  {
   "cell_type": "code",
   "execution_count": 17,
   "metadata": {},
   "outputs": [],
   "source": [
    "### Answer Grader\n",
    "\n",
    "# Answer grader instructions\n",
    "answer_grader_instructions = \"\"\"You are a teacher grading a quiz. \n",
    "\n",
    "You will be given a QUESTION and a STUDENT ANSWER. \n",
    "\n",
    "Here is the grade criteria to follow:\n",
    "\n",
    "(1) The STUDENT ANSWER helps to answer the QUESTION\n",
    "\n",
    "Score:\n",
    "\n",
    "A score of yes means that the student's answer meets all of the criteria. This is the highest (best) score. \n",
    "\n",
    "The student can receive a score of yes if the answer contains extra information that is not explicitly asked for in the question.\n",
    "\n",
    "A score of no means that the student's answer does not meet all of the criteria. This is the lowest possible score you can give.\n",
    "\n",
    "Explain your reasoning in a step-by-step manner to ensure your reasoning and conclusion are correct. \n",
    "\n",
    "Avoid simply stating the correct answer at the outset.\"\"\"\n",
    "\n",
    "# Grader prompt\n",
    "answer_grader_prompt = \"\"\"QUESTION: \\n\\n {question} \\n\\n STUDENT ANSWER: {generation}. \n",
    "\n",
    "Return JSON with two two keys, binary_score is 'yes' or 'no' score to indicate whether the STUDENT ANSWER meets the criteria. And a key, explanation, that contains an explanation of the score.\"\"\"\n"
   ]
  },
  {
   "cell_type": "code",
   "execution_count": 18,
   "metadata": {},
   "outputs": [
    {
     "data": {
      "text/plain": [
       "{'binary_score': 'yes',\n",
       " 'explanation': \"The student's answer helps to answer the question by providing specific examples of customers who have used Metanoia's solutions (Lucoyo, PRUEFSTER, and WasteAnt) and mentioning that digital agencies and e-commerce brands are also customers. Additionally, the student mentions that these customers have shared their personal 'Metania story' on the company's website, which provides further evidence of the company's customer base. The answer contains extra information about how Metanoia interacts with its customers (through interviews), but it still meets all the criteria specified in the question.\"}"
      ]
     },
     "execution_count": 18,
     "metadata": {},
     "output_type": "execute_result"
    }
   ],
   "source": [
    "# Test\n",
    "answer = generation.content\n",
    "\n",
    "# Test using question and generation from above\n",
    "answer_grader_prompt_formatted = answer_grader_prompt.format(\n",
    "    question=question, generation=answer\n",
    ")\n",
    "result = llm_json.invoke(\n",
    "    [SystemMessage(content=answer_grader_instructions)]\n",
    "    + [HumanMessage(content=answer_grader_prompt_formatted)]\n",
    ")\n",
    "json.loads(result.content)"
   ]
  },
  {
   "cell_type": "markdown",
   "metadata": {},
   "source": [
    "## Workflow"
   ]
  },
  {
   "cell_type": "code",
   "execution_count": 19,
   "metadata": {},
   "outputs": [],
   "source": [
    "import operator\n",
    "from typing_extensions import TypedDict\n",
    "from typing import List, Annotated\n",
    "\n",
    "\n",
    "class GraphState(TypedDict):\n",
    "    \"\"\"\n",
    "    Graph state is a dictionary that contains information we want to propagate to, and modify in, each graph node.\n",
    "    \"\"\"\n",
    "\n",
    "    question: str  # User question\n",
    "    generation: str  # LLM generation\n",
    "    web_search: str  # Binary decision to run web search\n",
    "    max_retries: int  # Max number of retries for answer generation\n",
    "    answers: int  # Number of answers generated\n",
    "    loop_step: Annotated[int, operator.add]\n",
    "    documents: List[str]  # List of retrieved documents"
   ]
  },
  {
   "cell_type": "markdown",
   "metadata": {},
   "source": [
    "### Nodes"
   ]
  },
  {
   "cell_type": "code",
   "execution_count": null,
   "metadata": {},
   "outputs": [],
   "source": [
    "from langgraph.graph import END\n",
    "\n",
    "### Nodes\n",
    "def retrieve(state):\n",
    "    \"\"\"\n",
    "    Retrieve documents from vectorstore\n",
    "\n",
    "    Args:\n",
    "        state (dict): The current graph state\n",
    "\n",
    "    Returns:\n",
    "        state (dict): New key added to state, documents, that contains retrieved documents\n",
    "    \"\"\"\n",
    "    print(\"---RETRIEVE---\")\n",
    "    question = state[\"question\"]\n",
    "\n",
    "    # Write retrieved documents to documents key in state\n",
    "    documents = retriever.invoke(question)\n",
    "    return {\"documents\": documents}"
   ]
  },
  {
   "cell_type": "code",
   "execution_count": 21,
   "metadata": {},
   "outputs": [],
   "source": [
    "def generate(state):\n",
    "    \"\"\"\n",
    "    Generate answer using RAG on retrieved documents\n",
    "\n",
    "    Args:\n",
    "        state (dict): The current graph state\n",
    "\n",
    "    Returns:\n",
    "        state (dict): New key added to state, generation, that contains LLM generation\n",
    "    \"\"\"\n",
    "    print(\"---GENERATE---\")\n",
    "    question = state[\"question\"]\n",
    "    documents = state[\"documents\"]\n",
    "    loop_step = state.get(\"loop_step\", 0)\n",
    "\n",
    "    # RAG generation\n",
    "    docs_txt = format_docs(documents)\n",
    "    rag_prompt_formatted = rag_prompt.format(context=docs_txt, question=question)\n",
    "    generation = llm.invoke([HumanMessage(content=rag_prompt_formatted)])\n",
    "    return {\"generation\": generation, \"loop_step\": loop_step + 1}"
   ]
  },
  {
   "cell_type": "code",
   "execution_count": 125,
   "metadata": {},
   "outputs": [],
   "source": [
    "def grade_documents(state):\n",
    "    \"\"\"\n",
    "    Determines whether the retrieved documents are relevant to the question\n",
    "    If any document is not relevant, we will set a flag to run web search\n",
    "\n",
    "    Args:\n",
    "        state (dict): The current graph state\n",
    "\n",
    "    Returns:\n",
    "        state (dict): Filtered out irrelevant documents and updated web_search state\n",
    "    \"\"\"\n",
    "\n",
    "    print(\"---CHECK DOCUMENT RELEVANCE TO QUESTION---\")\n",
    "    question = state[\"question\"]\n",
    "    documents = state[\"documents\"]\n",
    "    web_search = state[\"web_search\"]\n",
    "\n",
    "    # Score each doc\n",
    "    filtered_docs = []\n",
    "    for d in documents:\n",
    "        doc_grader_prompt_formatted = doc_grader_prompt.format(\n",
    "            document=d.page_content, question=question\n",
    "        )\n",
    "        result = llm_json.invoke(\n",
    "            [SystemMessage(content=doc_grader_instructions)]\n",
    "            + [HumanMessage(content=doc_grader_prompt_formatted)]\n",
    "        )\n",
    "        grade = json.loads(result.content)[\"binary_score\"]\n",
    "        # Document relevant\n",
    "        if grade.lower() == \"yes\":\n",
    "            print(\"---GRADE: DOCUMENT RELEVANT---\")\n",
    "            filtered_docs.append(d)\n",
    "        # Document not relevant\n",
    "        else:\n",
    "            print(\"---GRADE: DOCUMENT NOT RELEVANT---\")\n",
    "            # We do not include the document in filtered_docs\n",
    "            # We set a flag to indicate that we want to run web search\n",
    "            if web_search:\n",
    "                web_search = \"Yes\"\n",
    "            continue\n",
    "    if filtered_docs or not web_search:\n",
    "        web_search = \"No\"\n",
    "    return {\"documents\": filtered_docs, \"web_search\": web_search}"
   ]
  },
  {
   "cell_type": "markdown",
   "metadata": {},
   "source": [
    "#### Web Scraping"
   ]
  },
  {
   "cell_type": "code",
   "execution_count": 77,
   "metadata": {},
   "outputs": [
    {
     "data": {
      "text/plain": [
       "['https://www.newsletter.swirlai.com/p/memory-in-agent-systems#:~:text=Memory%20component%20of%20an%20Agent.&text=Generally%2C%20we%20tend%20to%20use,further%20split%20into%20multiple%20types.',\n",
       " 'https://blog.langchain.dev/memory-for-agents/',\n",
       " 'https://translate.google.com/translate?hl=de&sl=en&u=https://blog.langchain.dev/memory-for-agents/&prev=search&pto=aue']"
      ]
     },
     "execution_count": 77,
     "metadata": {},
     "output_type": "execute_result"
    }
   ],
   "source": [
    "from bs4 import BeautifulSoup\n",
    "import requests\n",
    "\n",
    "def search_url(query, num_results=3):\n",
    "    \"\"\"\n",
    "    Get search results from Google\n",
    "\n",
    "    Args:\n",
    "        query (str): The search query\n",
    "\n",
    "    Returns:\n",
    "        urls (list): List of URLs from the search\n",
    "    \"\"\"\n",
    "\n",
    "    question = query\n",
    "    search_url = 'https://www.google.com/search'\n",
    "\n",
    "    headers = {\n",
    "        'Accept' : '*/*',\n",
    "        'Accept-Language': 'en-US,en;q=0.5',\n",
    "        'User-Agent': 'Mozilla/5.0 (Windows NT 10.0; Win64; x64) AppleWebKit/537.36 (KHTML, like Gecko) Chrome/98.0.4758.82',\n",
    "    }\n",
    "    parameters = {'q': question}\n",
    "\n",
    "    content = requests.get(search_url, headers = headers, params = parameters).text\n",
    "    soup = BeautifulSoup(content, 'html.parser')\n",
    "\n",
    "    search = soup.find(id = 'search')\n",
    "    links = search.find_all('a')\n",
    "    \n",
    "    return [link.get('href') for link in links if link.get('href', '').startswith('https://')][:num_results]\n",
    "\n",
    "search_url('What are the types of agent memory?')"
   ]
  },
  {
   "cell_type": "code",
   "execution_count": 48,
   "metadata": {},
   "outputs": [],
   "source": [
    "def web_search(state):\n",
    "    \"\"\"\n",
    "    Web search based based on the question\n",
    "\n",
    "    Args:\n",
    "        state (dict): The current graph state\n",
    "\n",
    "    Returns:\n",
    "        state (dict): Appended web results to documents\n",
    "    \"\"\"\n",
    "\n",
    "    print(\"---WEB SEARCH---\")\n",
    "    question = state[\"question\"]\n",
    "    documents = state.get(\"documents\", [])\n",
    "\n",
    "    # Web search\n",
    "    docs = load_doc_url(search_url(question))\n",
    "    for doc in docs:\n",
    "        documents.append(doc)\n",
    "    return {\"documents\": documents}"
   ]
  },
  {
   "cell_type": "markdown",
   "metadata": {},
   "source": [
    "### Edges"
   ]
  },
  {
   "cell_type": "code",
   "execution_count": 25,
   "metadata": {},
   "outputs": [],
   "source": [
    "### Edges\n",
    "\n",
    "def route_question(state):\n",
    "    \"\"\"\n",
    "    Route question to web search or RAG\n",
    "\n",
    "    Args:\n",
    "        state (dict): The current graph state\n",
    "\n",
    "    Returns:\n",
    "        str: Next node to call\n",
    "    \"\"\"\n",
    "\n",
    "    print(\"---ROUTE QUESTION---\")\n",
    "    route_question = llm_json.invoke(\n",
    "        [SystemMessage(content=router_instructions)]\n",
    "        + [HumanMessage(content=state[\"question\"])]\n",
    "    )\n",
    "    source = json.loads(route_question.content)[\"datasource\"]\n",
    "    if source == \"websearch\":\n",
    "        print(\"---ROUTE QUESTION TO WEB SEARCH---\")\n",
    "        return \"websearch\"\n",
    "    elif source == \"vectorstore\":\n",
    "        print(\"---ROUTE QUESTION TO RAG---\")\n",
    "        return \"vectorstore\""
   ]
  },
  {
   "cell_type": "code",
   "execution_count": null,
   "metadata": {},
   "outputs": [],
   "source": [
    "def decide_to_generate(state):\n",
    "    \"\"\"\n",
    "    Determines whether to generate an answer, or add web search\n",
    "\n",
    "    Args:\n",
    "        state (dict): The current graph state\n",
    "\n",
    "    Returns:\n",
    "        str: Binary decision for next node to call\n",
    "    \"\"\"\n",
    "\n",
    "    print(\"---ASSESS GRADED DOCUMENTS---\")\n",
    "    web_search = state[\"web_search\"]\n",
    "\n",
    "    if web_search == \"Yes\":\n",
    "        # All documents have been filtered check_relevance\n",
    "        # We will re-generate a new query\n",
    "        print(\n",
    "            \"---DECISION: NOT ALL DOCUMENTS ARE RELEVANT TO QUESTION, INCLUDE WEB SEARCH---\"\n",
    "        )\n",
    "        return \"websearch\"\n",
    "    else:\n",
    "        # We have relevant documents, so generate answer\n",
    "        print(\"---DECISION: GENERATE---\")\n",
    "        return \"generate\""
   ]
  },
  {
   "cell_type": "code",
   "execution_count": 27,
   "metadata": {},
   "outputs": [],
   "source": [
    "def grade_generation_v_documents_and_question(state):\n",
    "    \"\"\"\n",
    "    Determines whether the generation is grounded in the document and answers question\n",
    "\n",
    "    Args:\n",
    "        state (dict): The current graph state\n",
    "\n",
    "    Returns:\n",
    "        str: Decision for next node to call\n",
    "    \"\"\"\n",
    "\n",
    "    print(\"---CHECK HALLUCINATIONS---\")\n",
    "    question = state[\"question\"]\n",
    "    documents = state[\"documents\"]\n",
    "    generation = state[\"generation\"]\n",
    "    max_retries = state.get(\"max_retries\", 3)  # Default to 3 if not provided\n",
    "\n",
    "    hallucination_grader_prompt_formatted = hallucination_grader_prompt.format(\n",
    "        documents=format_docs(documents), generation=generation.content\n",
    "    )\n",
    "    result = llm_json.invoke(\n",
    "        [SystemMessage(content=hallucination_grader_instructions)]\n",
    "        + [HumanMessage(content=hallucination_grader_prompt_formatted)]\n",
    "    )\n",
    "    grade = json.loads(result.content)[\"binary_score\"]\n",
    "\n",
    "    # Check hallucination\n",
    "    if grade == \"yes\":\n",
    "        print(\"---DECISION: GENERATION IS GROUNDED IN DOCUMENTS---\")\n",
    "        # Check question-answering\n",
    "        print(\"---GRADE GENERATION vs QUESTION---\")\n",
    "        # Test using question and generation from above\n",
    "        answer_grader_prompt_formatted = answer_grader_prompt.format(\n",
    "            question=question, generation=generation.content\n",
    "        )\n",
    "        result = llm_json.invoke(\n",
    "            [SystemMessage(content=answer_grader_instructions)]\n",
    "            + [HumanMessage(content=answer_grader_prompt_formatted)]\n",
    "        )\n",
    "        grade = json.loads(result.content)[\"binary_score\"]\n",
    "        if grade == \"yes\":\n",
    "            print(\"---DECISION: GENERATION ADDRESSES QUESTION---\")\n",
    "            return \"useful\"\n",
    "        elif state[\"loop_step\"] <= max_retries:\n",
    "            print(\"---DECISION: GENERATION DOES NOT ADDRESS QUESTION---\")\n",
    "            return \"not useful\"\n",
    "        else:\n",
    "            print(\"---DECISION: MAX RETRIES REACHED---\")\n",
    "            return \"max retries\"\n",
    "    elif state[\"loop_step\"] <= max_retries:\n",
    "        print(\"---DECISION: GENERATION IS NOT GROUNDED IN DOCUMENTS, RE-TRY---\")\n",
    "        return \"not supported\"\n",
    "    else:\n",
    "        print(\"---DECISION: MAX RETRIES REACHED---\")\n",
    "        return \"max retries\""
   ]
  },
  {
   "cell_type": "markdown",
   "metadata": {},
   "source": [
    "## Control Flow"
   ]
  },
  {
   "cell_type": "code",
   "execution_count": 144,
   "metadata": {},
   "outputs": [
    {
     "data": {
      "image/png": "[encoded data removed]",
      "text/plain": [
       "<IPython.core.display.Image object>"
      ]
     },
     "metadata": {},
     "output_type": "display_data"
    }
   ],
   "source": [
    "from langgraph.graph import StateGraph\n",
    "from IPython.display import Image, display\n",
    "\n",
    "workflow = StateGraph(GraphState)\n",
    "\n",
    "# Define the nodes\n",
    "workflow.add_node(\"websearch\", web_search)  # web search\n",
    "workflow.add_node(\"retrieve\", retrieve)  # retrieve\n",
    "workflow.add_node(\"grade_documents\", grade_documents)  # grade documents\n",
    "workflow.add_node(\"generate\", generate)  # generate\n",
    "\n",
    "# Build graph\n",
    "workflow.set_conditional_entry_point(\n",
    "    route_question,\n",
    "    {\n",
    "        \"websearch\": \"websearch\",\n",
    "        \"vectorstore\": \"retrieve\",\n",
    "    },\n",
    ")\n",
    "workflow.add_edge(\"websearch\", \"generate\")\n",
    "workflow.add_edge(\"retrieve\", \"grade_documents\")\n",
    "workflow.add_conditional_edges(\n",
    "    \"grade_documents\",\n",
    "    decide_to_generate,\n",
    "    {\n",
    "        \"websearch\": \"websearch\",\n",
    "        \"generate\": \"generate\",\n",
    "    },\n",
    ")\n",
    "workflow.add_conditional_edges(\n",
    "    \"generate\",\n",
    "    grade_generation_v_documents_and_question,\n",
    "    {\n",
    "        \"not supported\": \"generate\",\n",
    "        \"useful\": END,\n",
    "        \"not useful\": \"websearch\",\n",
    "        \"max retries\": END,\n",
    "    },\n",
    ")\n",
    "\n",
    "# Compile\n",
    "graph = workflow.compile()\n",
    "display(Image(graph.get_graph().draw_mermaid_png()))"
   ]
  },
  {
   "cell_type": "markdown",
   "metadata": {},
   "source": [
    "### Chat History and Query Functions"
   ]
  },
  {
   "cell_type": "code",
   "execution_count": 175,
   "metadata": {},
   "outputs": [],
   "source": [
    "from langchain.memory import ConversationBufferMemory\n",
    "\n",
    "# Initialize memory for tracking chat history\n",
    "chat_memory = ConversationBufferMemory(memory_key=\"chat_history\", return_messages=True)\n",
    "\n",
    "def update_chat_history(user_message, bot_message):\n",
    "    \"\"\"\n",
    "    Function to update the chat history after each query\n",
    "    \n",
    "    Args:\n",
    "        user_message (str): The user question\n",
    "        bot_message (str): The bot response\n",
    "    \"\"\"\n",
    "    # Save context to memory after each question/response\n",
    "    chat_memory.save_context({\"input\": user_message}, {\"output\": bot_message})\n",
    "    # Optionally, print the updated chat history for debugging\n",
    "    #print(f\"Updated Chat History:\\n{chat_memory.load_memory_variables({})['chat_history']}\")\n",
    "\n",
    "def get_chat_history(chat_memory):\n",
    "    \"\"\"\n",
    "    Function to get the chat history\n",
    "    \n",
    "    Returns:\n",
    "        list: The chat history\n",
    "    \"\"\"\n",
    "    return chat_memory.load_memory_variables({})[\"chat_history\"]\n",
    "\n",
    "def print_chat_history(chat_memory):\n",
    "    \"\"\"\n",
    "    Function to print the chat history\n",
    "    \n",
    "    Args:\n",
    "        chat_memory (ConversationBufferMemory): The chat memory\n",
    "    \"\"\"\n",
    "    chat_history = get_chat_history(chat_memory)\n",
    "    for entry in chat_history:\n",
    "        print(f\"{entry.type}: {entry.content}\\n\")\n",
    "\n",
    "def ask_question(question, max_retries=1, web_search=True):\n",
    "    \"\"\"\n",
    "    Ask a question and get an answer\n",
    "    \n",
    "    Args:\n",
    "        question (str): The user question\n",
    "        max_retries (int): Maximum number of retries for answer generation\n",
    "        web_search (bool): True to enable web search even if there are some relevant documents, False to disable\n",
    "    \n",
    "    Returns:\n",
    "        str: Answer to the question\n",
    "    \"\"\"\n",
    "    inputs = {\"question\": question, \"max_retries\": max_retries, \"web_search\": web_search}\n",
    "    events = []\n",
    "\n",
    "    # Iterate through the graph, streaming events\n",
    "    for event in graph.stream(inputs, stream_mode=\"values\"):\n",
    "        events.append(event)\n",
    "\n",
    "    # Get the final answer\n",
    "    bot_message = events[-1][\"generation\"].content\n",
    "    update_chat_history(question, bot_message)\n",
    "    \n",
    "    # Return the final generated answer\n",
    "    return bot_message"
   ]
  },
  {
   "cell_type": "code",
   "execution_count": 176,
   "metadata": {},
   "outputs": [
    {
     "name": "stdout",
     "output_type": "stream",
     "text": [
      "---ROUTE QUESTION---\n",
      "---ROUTE QUESTION TO RAG---\n",
      "---RETRIEVE---\n",
      "---CHECK DOCUMENT RELEVANCE TO QUESTION---\n",
      "---GRADE: DOCUMENT RELEVANT---\n",
      "---GRADE: DOCUMENT RELEVANT---\n",
      "---GRADE: DOCUMENT RELEVANT---\n",
      "---ASSESS GRADED DOCUMENTS---\n",
      "---DECISION: GENERATE---\n",
      "---GENERATE---\n",
      "---CHECK HALLUCINATIONS---\n",
      "---DECISION: GENERATION IS GROUNDED IN DOCUMENTS---\n",
      "---GRADE GENERATION vs QUESTION---\n",
      "---DECISION: GENERATION ADDRESSES QUESTION---\n",
      "---ROUTE QUESTION---\n",
      "---ROUTE QUESTION TO WEB SEARCH---\n",
      "---WEB SEARCH---\n",
      "---GENERATE---\n",
      "---CHECK HALLUCINATIONS---\n",
      "---DECISION: GENERATION IS GROUNDED IN DOCUMENTS---\n",
      "---GRADE GENERATION vs QUESTION---\n",
      "---DECISION: GENERATION ADDRESSES QUESTION---\n",
      "human: Tell me about metanoia IT and it's customers\n",
      "\n",
      "ai: Metanoia IT Solutions GmbH is a German IT company that specializes in providing software development, cloud, and AI-driven solutions for startups, digital agencies, e-commerce brands, and other clients. Their customers include well-known companies such as Lucoyo, PRUEFSTER, and WasteAnt, who have praised their expertise in web development, infrastructure, security, and AI optimization. By partnering with Metanoia IT, startups can benefit from efficient solutions, expert support, and cost-effective services to drive growth and success.\n",
      "\n",
      "human: Recommend me some german dishes\n",
      "\n",
      "ai: Here is a possible answer:\n",
      "\n",
      "Try making Apfelstrudel, Schwarzwälder Kirschtorte, or Schnitzel, which are all popular German dishes. You can also consider making Wiener Schnitzel, Holsten-style schnitzel, or chicken schnitzel for a variation. Additionally, you can try making traditional German desserts like Black Forest cake or apple strudel.\n",
      "\n"
     ]
    }
   ],
   "source": [
    "ask_question(\"Tell me about metanoia IT and it's customers\", web_search=True)\n",
    "ask_question(\"Recommend me some german dishes\", web_search=True)\n",
    "\n",
    "print_chat_history(chat_memory)"
   ]
  },
  {
   "cell_type": "code",
   "execution_count": 177,
   "metadata": {},
   "outputs": [
    {
     "name": "stdout",
     "output_type": "stream",
     "text": [
      "---ROUTE QUESTION---\n",
      "---ROUTE QUESTION TO WEB SEARCH---\n",
      "---WEB SEARCH---\n",
      "---GENERATE---\n",
      "---CHECK HALLUCINATIONS---\n",
      "---DECISION: GENERATION IS GROUNDED IN DOCUMENTS---\n",
      "---GRADE GENERATION vs QUESTION---\n",
      "---DECISION: GENERATION ADDRESSES QUESTION---\n",
      "human: Tell me about metanoia IT and it's customers\n",
      "\n",
      "ai: Metanoia IT Solutions GmbH is a German IT company that specializes in providing software development, cloud, and AI-driven solutions for startups, digital agencies, e-commerce brands, and other clients. Their customers include well-known companies such as Lucoyo, PRUEFSTER, and WasteAnt, who have praised their expertise in web development, infrastructure, security, and AI optimization. By partnering with Metanoia IT, startups can benefit from efficient solutions, expert support, and cost-effective services to drive growth and success.\n",
      "\n",
      "human: Recommend me some german dishes\n",
      "\n",
      "ai: Here is a possible answer:\n",
      "\n",
      "Try making Apfelstrudel, Schwarzwälder Kirschtorte, or Schnitzel, which are all popular German dishes. You can also consider making Wiener Schnitzel, Holsten-style schnitzel, or chicken schnitzel for a variation. Additionally, you can try making traditional German desserts like Black Forest cake or apple strudel.\n",
      "\n",
      "human: Recommend me some Thai dishes\n",
      "\n",
      "ai: Here is a possible answer based on the provided context:\n",
      "\n",
      "Consider trying Khao Soi, a curried noodle soup that's a popular dish in Thailand, or Pad Thai, a stir-fry dish made with rice noodles, eggs, and vegetables. For a unique experience, try Durian, a tropical fruit known for its rich and creamy flesh, or Mangosteen, a sweet and tangy fruit often referred to as the \"queen of fruits\". These dishes showcase the diversity and flavor of Thai cuisine.\n",
      "\n"
     ]
    }
   ],
   "source": [
    "ask_question(\"Recommend me some Thai dishes\", web_search=False)\n",
    "\n",
    "print_chat_history(chat_memory)"
   ]
  },
  {
   "cell_type": "code",
   "execution_count": 178,
   "metadata": {},
   "outputs": [
    {
     "name": "stdout",
     "output_type": "stream",
     "text": [
      "---ROUTE QUESTION---\n",
      "---ROUTE QUESTION TO RAG---\n",
      "---RETRIEVE---\n",
      "---CHECK DOCUMENT RELEVANCE TO QUESTION---\n",
      "---GRADE: DOCUMENT NOT RELEVANT---\n",
      "---GRADE: DOCUMENT NOT RELEVANT---\n",
      "---GRADE: DOCUMENT NOT RELEVANT---\n",
      "---ASSESS GRADED DOCUMENTS---\n",
      "---DECISION: GENERATE---\n",
      "---GENERATE---\n",
      "---CHECK HALLUCINATIONS---\n",
      "---DECISION: GENERATION IS NOT GROUNDED IN DOCUMENTS, RE-TRY---\n",
      "---GENERATE---\n",
      "---CHECK HALLUCINATIONS---\n",
      "---DECISION: MAX RETRIES REACHED---\n"
     ]
    },
    {
     "data": {
      "text/plain": [
       "'I don\\'t have any information about a company called \"metanoia IT\" or its founder in the provided context. The context seems to be incomplete, and I couldn\\'t find any relevant details about metanoia IT. Therefore, I cannot provide an accurate answer to your question.'"
      ]
     },
     "execution_count": 178,
     "metadata": {},
     "output_type": "execute_result"
    }
   ],
   "source": [
    "ask_question(\"Who is the founder of metanoia IT\", web_search=False)"
   ]
  }
 ],
 "metadata": {
  "kernelspec": {
   "display_name": "Python 3",
   "language": "python",
   "name": "python3"
  },
  "language_info": {
   "codemirror_mode": {
    "name": "ipython",
    "version": 3
   },
   "file_extension": ".py",
   "mimetype": "text/x-python",
   "name": "python",
   "nbconvert_exporter": "python",
   "pygments_lexer": "ipython3",
   "version": "3.11.4"
  }
 },
 "nbformat": 4,
 "nbformat_minor": 2
}
